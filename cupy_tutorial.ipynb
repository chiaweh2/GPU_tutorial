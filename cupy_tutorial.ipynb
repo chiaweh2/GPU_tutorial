{
 "cells": [
  {
   "cell_type": "markdown",
   "id": "49480372-a531-408b-9587-96c8cc97148a",
   "metadata": {},
   "source": [
    "# Showing basic GPU cupy usage\n",
    "- checking local system GPU\n",
    "- needed packages\n",
    "- using cupy\n",
    "- local memory and GPU memory\n",
    "- GPU calculation\n",
    "\n",
    "\n",
    "# PSL GPU usage \n",
    "check out the [wiki created by Chris](https://userdocs.psd.esrl.noaa.gov/Machine%20Learning#linux-gpu1) (VPN needed)"
   ]
  },
  {
   "cell_type": "markdown",
   "id": "e9e21584-3d62-4b8e-b36d-e7d57ed7adde",
   "metadata": {},
   "source": [
    "## Checking the NVIDIA GPU in the local system "
   ]
  },
  {
   "cell_type": "code",
   "execution_count": 18,
   "id": "575c0ea0-bf87-4d5a-ad51-78c9ecf0d881",
   "metadata": {
    "tags": []
   },
   "outputs": [
    {
     "name": "stdout",
     "output_type": "stream",
     "text": [
      "Tue Mar 21 16:06:41 2023       \n",
      "+---------------------------------------------------------------------------------------+\n",
      "| NVIDIA-SMI 530.30.02              Driver Version: 530.30.02    CUDA Version: 12.1     |\n",
      "|-----------------------------------------+----------------------+----------------------+\n",
      "| GPU  Name                  Persistence-M| Bus-Id        Disp.A | Volatile Uncorr. ECC |\n",
      "| Fan  Temp  Perf            Pwr:Usage/Cap|         Memory-Usage | GPU-Util  Compute M. |\n",
      "|                                         |                      |               MIG M. |\n",
      "|=========================================+======================+======================|\n",
      "|   0  NVIDIA RTX A6000                Off| 00000000:81:00.0 Off |                  Off |\n",
      "| 30%   19C    P8                4W / 300W|  31014MiB / 49140MiB |      0%      Default |\n",
      "|                                         |                      |                  N/A |\n",
      "+-----------------------------------------+----------------------+----------------------+\n",
      "                                                                                         \n",
      "+---------------------------------------------------------------------------------------+\n",
      "| Processes:                                                                            |\n",
      "|  GPU   GI   CI        PID   Type   Process name                            GPU Memory |\n",
      "|        ID   ID                                                             Usage      |\n",
      "|=======================================================================================|\n",
      "|    0   N/A  N/A   2538520      C   ...chsu/mambaforge/envs/gpu/bin/python    23178MiB |\n",
      "|    0   N/A  N/A   2555471      C   ...chsu/mambaforge/envs/gpu/bin/python     7832MiB |\n",
      "+---------------------------------------------------------------------------------------+\n"
     ]
    }
   ],
   "source": [
    "!nvidia-smi"
   ]
  },
  {
   "cell_type": "markdown",
   "id": "34ab77e8-e185-4e92-9782-b3072855977e",
   "metadata": {
    "tags": []
   },
   "source": [
    "## Packages used\n",
    "- cupy (https://cupy.dev)\n",
    "    cupyx : a scipy mirroring package for GPU\n",
    "    cudatoolkit : a cuda toolkit for python/cupy use\n",
    "- numpy (https://numpy.org)\n",
    "\n",
    "---\n",
    "\n",
    ">Comparison table between cupy and numpu\n",
    "https://docs.cupy.dev/en/stable/reference/comparison.html\n",
    "\n",
    ">Writing cuda kernel from cupy\n",
    "https://docs.cupy.dev/en/stable/user_guide/kernel.html\n",
    "\n",
    ">Writing cuda kernel from numba\n",
    "https://numba.readthedocs.io/en/stable/cuda/kernels.html\n",
    "(CUDA grid concept https://towardsdatascience.com/cuda-by-numba-examples-1-4-e0d06651612f)\n",
    "\n"
   ]
  },
  {
   "cell_type": "markdown",
   "id": "05847a91-cd32-48c2-9a97-86ea6f75a255",
   "metadata": {},
   "source": [
    "# Basic cupy and numpy comparison"
   ]
  },
  {
   "cell_type": "code",
   "execution_count": 1,
   "id": "ab029fe1-2d0b-41cc-b525-fbf6d0c9ed1f",
   "metadata": {
    "tags": []
   },
   "outputs": [],
   "source": [
    "import cupy as cp\n",
    "import numpy as np"
   ]
  },
  {
   "cell_type": "code",
   "execution_count": 3,
   "id": "5478fbab-2353-4cd7-b770-128983792e26",
   "metadata": {
    "tags": []
   },
   "outputs": [],
   "source": [
    "x_gpu = cp.array([1, 2, 3])\n",
    "x_cpu = np.array([1, 2, 3])"
   ]
  },
  {
   "cell_type": "code",
   "execution_count": 4,
   "id": "3604c4e4-44cb-4bba-b06d-7cab87df98fe",
   "metadata": {
    "tags": []
   },
   "outputs": [
    {
     "data": {
      "text/plain": [
       "cupy.ndarray"
      ]
     },
     "execution_count": 4,
     "metadata": {},
     "output_type": "execute_result"
    }
   ],
   "source": [
    "type(x_gpu)"
   ]
  },
  {
   "cell_type": "code",
   "execution_count": 5,
   "id": "3a799514-10be-46a1-8fdb-4553692e373b",
   "metadata": {
    "tags": []
   },
   "outputs": [
    {
     "data": {
      "text/plain": [
       "numpy.ndarray"
      ]
     },
     "execution_count": 5,
     "metadata": {},
     "output_type": "execute_result"
    }
   ],
   "source": [
    "type(x_cpu)"
   ]
  },
  {
   "cell_type": "code",
   "execution_count": 6,
   "id": "2f49bfac-fa6b-4a36-978d-e4782ee390c8",
   "metadata": {
    "tags": []
   },
   "outputs": [
    {
     "data": {
      "text/plain": [
       "<CUDA Device 0>"
      ]
     },
     "execution_count": 6,
     "metadata": {},
     "output_type": "execute_result"
    }
   ],
   "source": [
    "x_gpu.device"
   ]
  },
  {
   "cell_type": "code",
   "execution_count": 7,
   "id": "29b8215a-e636-4e69-a6f6-4a4f5b5d32fb",
   "metadata": {
    "tags": []
   },
   "outputs": [
    {
     "ename": "AttributeError",
     "evalue": "'numpy.ndarray' object has no attribute 'device'",
     "output_type": "error",
     "traceback": [
      "\u001b[0;31m---------------------------------------------------------------------------\u001b[0m",
      "\u001b[0;31mAttributeError\u001b[0m                            Traceback (most recent call last)",
      "Cell \u001b[0;32mIn[7], line 1\u001b[0m\n\u001b[0;32m----> 1\u001b[0m \u001b[43mx_cpu\u001b[49m\u001b[38;5;241;43m.\u001b[39;49m\u001b[43mdevice\u001b[49m\n",
      "\u001b[0;31mAttributeError\u001b[0m: 'numpy.ndarray' object has no attribute 'device'"
     ]
    }
   ],
   "source": [
    "x_cpu.device"
   ]
  },
  {
   "cell_type": "markdown",
   "id": "e4678c50-b69c-4781-ad02-15d9631d9c80",
   "metadata": {},
   "source": [
    "## Data transfer"
   ]
  },
  {
   "cell_type": "markdown",
   "id": "152d2d17-5e5b-4f05-b4f0-c12b79b1ef98",
   "metadata": {},
   "source": [
    "### From CPU to GPU (from host to device)"
   ]
  },
  {
   "cell_type": "code",
   "execution_count": 8,
   "id": "e13612ea-251e-4cbb-9f0f-1e182f29d53f",
   "metadata": {
    "tags": []
   },
   "outputs": [],
   "source": [
    "x_cpu_from_gpu = cp.asnumpy(x_gpu)  # move the data to the current device."
   ]
  },
  {
   "cell_type": "code",
   "execution_count": 9,
   "id": "fd90bc3f-1f83-468d-8d04-9cc698951033",
   "metadata": {
    "tags": []
   },
   "outputs": [
    {
     "data": {
      "text/plain": [
       "numpy.ndarray"
      ]
     },
     "execution_count": 9,
     "metadata": {},
     "output_type": "execute_result"
    }
   ],
   "source": [
    "type(x_cpu_from_gpu)"
   ]
  },
  {
   "cell_type": "code",
   "execution_count": 10,
   "id": "6f71c4fe-bd54-4dc7-ac81-97b881872578",
   "metadata": {
    "tags": []
   },
   "outputs": [
    {
     "ename": "AttributeError",
     "evalue": "'numpy.ndarray' object has no attribute 'device'",
     "output_type": "error",
     "traceback": [
      "\u001b[0;31m---------------------------------------------------------------------------\u001b[0m",
      "\u001b[0;31mAttributeError\u001b[0m                            Traceback (most recent call last)",
      "Cell \u001b[0;32mIn[10], line 1\u001b[0m\n\u001b[0;32m----> 1\u001b[0m \u001b[43mx_cpu_from_gpu\u001b[49m\u001b[38;5;241;43m.\u001b[39;49m\u001b[43mdevice\u001b[49m\n",
      "\u001b[0;31mAttributeError\u001b[0m: 'numpy.ndarray' object has no attribute 'device'"
     ]
    }
   ],
   "source": [
    "x_cpu_from_gpu.device"
   ]
  },
  {
   "cell_type": "markdown",
   "id": "4464607b-cdef-4896-a214-f31d785e17ac",
   "metadata": {},
   "source": [
    "### From GPU to CPU (from device to host)"
   ]
  },
  {
   "cell_type": "code",
   "execution_count": 11,
   "id": "86e32008",
   "metadata": {
    "tags": []
   },
   "outputs": [],
   "source": [
    "x_cpu_from_gpu = cp.asnumpy(x_gpu)  # move the data to the current device."
   ]
  },
  {
   "cell_type": "code",
   "execution_count": 12,
   "id": "6caa0860",
   "metadata": {
    "tags": []
   },
   "outputs": [
    {
     "data": {
      "text/plain": [
       "numpy.ndarray"
      ]
     },
     "execution_count": 12,
     "metadata": {},
     "output_type": "execute_result"
    }
   ],
   "source": [
    "type(x_cpu_from_gpu)"
   ]
  },
  {
   "cell_type": "code",
   "execution_count": 13,
   "id": "904e544b",
   "metadata": {
    "tags": []
   },
   "outputs": [
    {
     "ename": "AttributeError",
     "evalue": "'numpy.ndarray' object has no attribute 'device'",
     "output_type": "error",
     "traceback": [
      "\u001b[0;31m---------------------------------------------------------------------------\u001b[0m",
      "\u001b[0;31mAttributeError\u001b[0m                            Traceback (most recent call last)",
      "Cell \u001b[0;32mIn[13], line 1\u001b[0m\n\u001b[0;32m----> 1\u001b[0m \u001b[43mx_cpu_from_gpu\u001b[49m\u001b[38;5;241;43m.\u001b[39;49m\u001b[43mdevice\u001b[49m\n",
      "\u001b[0;31mAttributeError\u001b[0m: 'numpy.ndarray' object has no attribute 'device'"
     ]
    }
   ],
   "source": [
    "x_cpu_from_gpu.device"
   ]
  },
  {
   "cell_type": "markdown",
   "id": "d0f5c704-f179-4113-98f0-f6a82923e569",
   "metadata": {},
   "source": [
    "## GPU calculation using CuPy"
   ]
  },
  {
   "cell_type": "code",
   "execution_count": 14,
   "id": "453d9527-4a29-4e41-b665-7178427df808",
   "metadata": {},
   "outputs": [
    {
     "name": "stdout",
     "output_type": "stream",
     "text": [
      "CPU times: user 1.56 ms, sys: 17.4 ms, total: 19 ms\n",
      "Wall time: 17.5 ms\n"
     ]
    }
   ],
   "source": [
    "%time x_gpu = cp.arange(0,1e9)"
   ]
  },
  {
   "cell_type": "code",
   "execution_count": 15,
   "id": "470f398c-795c-41c3-a47c-e403fc0648d8",
   "metadata": {},
   "outputs": [
    {
     "name": "stdout",
     "output_type": "stream",
     "text": [
      "CPU times: user 478 ms, sys: 549 ms, total: 1.03 s\n",
      "Wall time: 1.03 s\n"
     ]
    }
   ],
   "source": [
    "%time x_cpu = np.arange(0,1e9)"
   ]
  },
  {
   "cell_type": "code",
   "execution_count": 16,
   "id": "29cf43ab-46e5-4be2-a4f3-41d120cda631",
   "metadata": {},
   "outputs": [
    {
     "name": "stdout",
     "output_type": "stream",
     "text": [
      "CPU times: user 1.67 ms, sys: 16.7 ms, total: 18.4 ms\n",
      "Wall time: 17.4 ms\n"
     ]
    },
    {
     "data": {
      "text/plain": [
       "array(5.e+17)"
      ]
     },
     "execution_count": 16,
     "metadata": {},
     "output_type": "execute_result"
    }
   ],
   "source": [
    "%time cp.sum(x_gpu)"
   ]
  },
  {
   "cell_type": "code",
   "execution_count": 17,
   "id": "bb78693f-db13-4cc2-8d8d-34c0c4bac5db",
   "metadata": {},
   "outputs": [
    {
     "name": "stdout",
     "output_type": "stream",
     "text": [
      "CPU times: user 303 ms, sys: 703 µs, total: 304 ms\n",
      "Wall time: 303 ms\n"
     ]
    },
    {
     "data": {
      "text/plain": [
       "4.999999995e+17"
      ]
     },
     "execution_count": 17,
     "metadata": {},
     "output_type": "execute_result"
    }
   ],
   "source": [
    "%time np.sum(x_cpu)"
   ]
  },
  {
   "cell_type": "code",
   "execution_count": null,
   "id": "76df6b2c-267f-43a6-a948-01c37ee1a087",
   "metadata": {},
   "outputs": [],
   "source": []
  },
  {
   "cell_type": "markdown",
   "id": "38156f07-55fb-4af5-9d3b-1048f8fdfeff",
   "metadata": {},
   "source": [
    "### Multiple run testing"
   ]
  },
  {
   "cell_type": "code",
   "execution_count": 10,
   "id": "fb68fae7-5743-4704-b53e-2e0661629e6c",
   "metadata": {
    "tags": []
   },
   "outputs": [
    {
     "name": "stdout",
     "output_type": "stream",
     "text": [
      "19 µs ± 8.35 µs per loop (mean ± std. dev. of 5 runs, 100 loops each)\n"
     ]
    }
   ],
   "source": [
    "%timeit -r 5 -n 100 x_gpu = cp.arange(0,1e9)"
   ]
  },
  {
   "cell_type": "code",
   "execution_count": 11,
   "id": "25ae1d1b-f44b-4368-b8cc-30cc026bfa18",
   "metadata": {
    "tags": []
   },
   "outputs": [
    {
     "name": "stdout",
     "output_type": "stream",
     "text": [
      "1.06 s ± 3.36 ms per loop (mean ± std. dev. of 5 runs, 100 loops each)\n"
     ]
    }
   ],
   "source": [
    "%timeit -r 5 -n 100 x_cpu = np.arange(0,1e9)"
   ]
  },
  {
   "cell_type": "code",
   "execution_count": 12,
   "id": "4f12646e-f5fe-4924-959a-27a7a8cc3021",
   "metadata": {
    "tags": []
   },
   "outputs": [
    {
     "name": "stdout",
     "output_type": "stream",
     "text": [
      "14.2 µs ± 923 ns per loop (mean ± std. dev. of 5 runs, 100 loops each)\n"
     ]
    }
   ],
   "source": [
    "x_gpu = cp.arange(0,1e9)\n",
    "%timeit -r 5 -n 100 cp.sum(x_gpu)"
   ]
  },
  {
   "cell_type": "code",
   "execution_count": 13,
   "id": "8679602b-19a2-4dc8-82e7-23826301c26a",
   "metadata": {
    "tags": []
   },
   "outputs": [
    {
     "name": "stdout",
     "output_type": "stream",
     "text": [
      "307 ms ± 4.58 ms per loop (mean ± std. dev. of 5 runs, 100 loops each)\n"
     ]
    }
   ],
   "source": [
    "x_cpu = np.arange(0,1e9)\n",
    "%timeit -r 5 -n 100 np.sum(x_cpu)"
   ]
  },
  {
   "cell_type": "code",
   "execution_count": null,
   "id": "56219182-e999-41c7-9436-245cd0093152",
   "metadata": {},
   "outputs": [],
   "source": []
  }
 ],
 "metadata": {
  "kernelspec": {
   "display_name": "Python 3 (ipykernel)",
   "language": "python",
   "name": "python3"
  },
  "language_info": {
   "codemirror_mode": {
    "name": "ipython",
    "version": 3
   },
   "file_extension": ".py",
   "mimetype": "text/x-python",
   "name": "python",
   "nbconvert_exporter": "python",
   "pygments_lexer": "ipython3",
   "version": "3.9.16"
  }
 },
 "nbformat": 4,
 "nbformat_minor": 5
}
